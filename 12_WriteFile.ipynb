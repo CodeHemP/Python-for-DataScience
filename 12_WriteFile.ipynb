{
  "nbformat": 4,
  "nbformat_minor": 0,
  "metadata": {
    "kernelspec": {
      "display_name": "Python 3",
      "language": "python",
      "name": "python3"
    },
    "language_info": {
      "codemirror_mode": {
        "name": "ipython",
        "version": 3
      },
      "file_extension": ".py",
      "mimetype": "text/x-python",
      "name": "python",
      "nbconvert_exporter": "python",
      "pygments_lexer": "ipython3",
      "version": "3.6.8"
    },
    "colab": {
      "name": "12. WriteFile.ipynb",
      "provenance": [],
      "include_colab_link": true
    }
  },
  "cells": [
    {
      "cell_type": "markdown",
      "metadata": {
        "id": "view-in-github",
        "colab_type": "text"
      },
      "source": [
        "<a href=\"https://colab.research.google.com/github/mohd-faizy/My_Python_for_DataScience/blob/master/12_WriteFile.ipynb\" target=\"_parent\"><img src=\"https://colab.research.google.com/assets/colab-badge.svg\" alt=\"Open In Colab\"/></a>"
      ]
    },
    {
      "cell_type": "markdown",
      "metadata": {
        "id": "IKP3kRjk6oW2",
        "colab_type": "text"
      },
      "source": [
        "<h1>Write and Save Files in Python</h1>"
      ]
    },
    {
      "cell_type": "markdown",
      "metadata": {
        "id": "puqNf8MT6oW3",
        "colab_type": "text"
      },
      "source": [
        "<p><strong>Welcome!</strong> This notebook will teach you about write the text to file in the Python Programming Language. By the end of this lab, you'll know how to write to file and copy the file.</p>"
      ]
    },
    {
      "cell_type": "markdown",
      "metadata": {
        "id": "Tk8ys7gj6oW4",
        "colab_type": "text"
      },
      "source": [
        "<h2>Table of Contents</h2>\n",
        "<div class=\"alert alert-block alert-info\" style=\"margin-top: 20px\">\n",
        "    <ul>\n",
        "        <li><a href=\"write\">Writing Files</a></li>\n",
        "        <li><a href=\"copy\">Copy a File</a></li>\n",
        "    </ul>\n",
        "    <p>\n",
        "        Estimated time needed: <strong>15 min</strong>\n",
        "    </p>\n",
        "</div>\n",
        "\n",
        "<hr>"
      ]
    },
    {
      "cell_type": "markdown",
      "metadata": {
        "id": "dgVxvbzK6oW4",
        "colab_type": "text"
      },
      "source": [
        "<h2 id=\"write\">Writing Files</h2>"
      ]
    },
    {
      "cell_type": "markdown",
      "metadata": {
        "id": "gLM9fxSs6oW5",
        "colab_type": "text"
      },
      "source": [
        " We can open a file object using the method <code>write()</code> to save the text file to a list. To write the mode, argument must be set to write <b>w</b>. Let’s write a file <b>Example2.txt</b> with the line: <b>“This is line A”</b>"
      ]
    },
    {
      "cell_type": "code",
      "metadata": {
        "id": "c3qop-306oW6",
        "colab_type": "code",
        "colab": {}
      },
      "source": [
        "# Write line to file\n",
        "\n",
        "with open('/resources/data/Example2.txt', 'w') as writefile:\n",
        "    writefile.write(\"This is line A\")\n"
      ],
      "execution_count": null,
      "outputs": []
    },
    {
      "cell_type": "markdown",
      "metadata": {
        "id": "YmNNyA-g6oXA",
        "colab_type": "text"
      },
      "source": [
        " We can read the file to see if it worked:"
      ]
    },
    {
      "cell_type": "code",
      "metadata": {
        "id": "dECNJKp76oXB",
        "colab_type": "code",
        "colab": {},
        "outputId": "6bcf2733-17ee-4815-91f7-3b92d85570b6"
      },
      "source": [
        "# Read file\n",
        "\n",
        "with open('/resources/data/Example2.txt', 'r') as testwritefile:\n",
        "    print(testwritefile.read())"
      ],
      "execution_count": null,
      "outputs": [
        {
          "output_type": "stream",
          "text": [
            "This is line A\n"
          ],
          "name": "stdout"
        }
      ]
    },
    {
      "cell_type": "markdown",
      "metadata": {
        "id": "cE2THTL96oXI",
        "colab_type": "text"
      },
      "source": [
        "We can write multiple lines:"
      ]
    },
    {
      "cell_type": "code",
      "metadata": {
        "id": "n8JYIUx76oXI",
        "colab_type": "code",
        "colab": {}
      },
      "source": [
        "# Write lines to file\n",
        "\n",
        "with open('/resources/data/Example2.txt', 'w') as writefile:\n",
        "    writefile.write(\"This is line A\\n\")\n",
        "    writefile.write(\"This is line B\\n\")"
      ],
      "execution_count": null,
      "outputs": []
    },
    {
      "cell_type": "markdown",
      "metadata": {
        "id": "p-KXkacG6oXN",
        "colab_type": "text"
      },
      "source": [
        "The method <code>.write()</code> works similar to the method <code>.readline()</code>, except instead of reading a new line it writes a new line. The process is illustrated in the figure , the different colour coding of the grid represents a new line added to the file after each method call."
      ]
    },
    {
      "cell_type": "markdown",
      "metadata": {
        "id": "XyVofc2N6oXO",
        "colab_type": "text"
      },
      "source": [
        "<img src=\"https://s3-api.us-geo.objectstorage.softlayer.net/cf-courses-data/CognitiveClass/PY0101EN/Chapter%204/Images/WriteLine.png\" width=\"500\" />"
      ]
    },
    {
      "cell_type": "markdown",
      "metadata": {
        "id": "rr3WrU7g6oXP",
        "colab_type": "text"
      },
      "source": [
        "You can check the file to see if your results are correct "
      ]
    },
    {
      "cell_type": "code",
      "metadata": {
        "id": "TkLzxBl56oXQ",
        "colab_type": "code",
        "colab": {},
        "outputId": "ddd1ea1f-b1bd-454f-cb50-5ca63ac2c900"
      },
      "source": [
        "# Check whether write to file\n",
        "\n",
        "with open('/resources/data/Example2.txt', 'r') as testwritefile:\n",
        "    print(testwritefile.read())"
      ],
      "execution_count": null,
      "outputs": [
        {
          "output_type": "stream",
          "text": [
            "This is line A\n",
            "This is line B\n",
            "\n"
          ],
          "name": "stdout"
        }
      ]
    },
    {
      "cell_type": "markdown",
      "metadata": {
        "id": "i7qrrJF_6oXU",
        "colab_type": "text"
      },
      "source": [
        " By setting the mode argument to append **a**  you can append a new line as follows:"
      ]
    },
    {
      "cell_type": "code",
      "metadata": {
        "id": "kAftAErb6oXV",
        "colab_type": "code",
        "colab": {}
      },
      "source": [
        "# Write a new line to text file\n",
        "\n",
        "with open('/resources/data/Example2.txt', 'a') as testwritefile:\n",
        "    testwritefile.write(\"This is line C\\n\")"
      ],
      "execution_count": null,
      "outputs": []
    },
    {
      "cell_type": "markdown",
      "metadata": {
        "id": "CAa7yUBP6oXa",
        "colab_type": "text"
      },
      "source": [
        " You can verify the file has changed by running the following cell:"
      ]
    },
    {
      "cell_type": "code",
      "metadata": {
        "id": "MnO0crXv6oXb",
        "colab_type": "code",
        "colab": {},
        "outputId": "78057205-d598-4c9f-aab0-7da2def0d93d"
      },
      "source": [
        "# Verify if the new line is in the text file\n",
        "\n",
        "with open('/resources/data/Example2.txt', 'r') as testwritefile:\n",
        "    print(testwritefile.read())"
      ],
      "execution_count": null,
      "outputs": [
        {
          "output_type": "stream",
          "text": [
            "This is line A\n",
            "This is line B\n",
            "This is line C\n",
            "\n"
          ],
          "name": "stdout"
        }
      ]
    },
    {
      "cell_type": "markdown",
      "metadata": {
        "id": "XS9N11cA6oXf",
        "colab_type": "text"
      },
      "source": [
        " We write a list to a <b>.txt</b> file  as follows:"
      ]
    },
    {
      "cell_type": "code",
      "metadata": {
        "id": "dkub2BLD6oXg",
        "colab_type": "code",
        "colab": {},
        "outputId": "b047ade2-a0d6-4ed2-b708-9e0f9e972c96"
      },
      "source": [
        "# Sample list of text\n",
        "\n",
        "Lines = [\"This is line A\\n\", \"This is line B\\n\", \"This is line C\\n\"]\n",
        "Lines"
      ],
      "execution_count": null,
      "outputs": [
        {
          "output_type": "execute_result",
          "data": {
            "text/plain": [
              "['This is line A\\n', 'This is line B\\n', 'This is line C\\n']"
            ]
          },
          "metadata": {
            "tags": []
          },
          "execution_count": 63
        }
      ]
    },
    {
      "cell_type": "code",
      "metadata": {
        "id": "PaSi4vkb6oXk",
        "colab_type": "code",
        "colab": {},
        "outputId": "c09c9a52-2bcf-4c2e-d5aa-205a71a50b91"
      },
      "source": [
        "# Write the strings in the list to text file\n",
        "\n",
        "with open('Example2.txt', 'w') as writefile:\n",
        "    for line in Lines:\n",
        "        print(line)\n",
        "        writefile.write(line)"
      ],
      "execution_count": null,
      "outputs": [
        {
          "output_type": "stream",
          "text": [
            "This is line A\n",
            "\n",
            "This is line B\n",
            "\n",
            "This is line C\n",
            "\n"
          ],
          "name": "stdout"
        }
      ]
    },
    {
      "cell_type": "markdown",
      "metadata": {
        "id": "yq9o4kjN6oXo",
        "colab_type": "text"
      },
      "source": [
        " We can verify the file is written by reading it and printing out the values:  "
      ]
    },
    {
      "cell_type": "code",
      "metadata": {
        "id": "FA-aPtPE6oXq",
        "colab_type": "code",
        "colab": {},
        "outputId": "41c3ff54-30fa-4264-9541-a08db9fe5667"
      },
      "source": [
        "# Verify if writing to file is successfully executed\n",
        "\n",
        "with open('Example2.txt', 'r') as testwritefile:\n",
        "    print(testwritefile.read())"
      ],
      "execution_count": null,
      "outputs": [
        {
          "output_type": "stream",
          "text": [
            "This is line A\n",
            "This is line B\n",
            "This is line C\n",
            "This is line D\n",
            "\n"
          ],
          "name": "stdout"
        }
      ]
    },
    {
      "cell_type": "markdown",
      "metadata": {
        "id": "6QaOtsuf6oXt",
        "colab_type": "text"
      },
      "source": [
        "We can again append to the file by changing the second parameter to <b>a</b>. This adds the code:"
      ]
    },
    {
      "cell_type": "code",
      "metadata": {
        "id": "1ypJ3LPG6oXu",
        "colab_type": "code",
        "colab": {}
      },
      "source": [
        "# Append the line to the file\n",
        "\n",
        "with open('Example2.txt', 'a') as testwritefile:\n",
        "    testwritefile.write(\"This is line D\\n\")"
      ],
      "execution_count": null,
      "outputs": []
    },
    {
      "cell_type": "markdown",
      "metadata": {
        "id": "8S8oRjcO6oXy",
        "colab_type": "text"
      },
      "source": [
        "We can see the results of appending the file: "
      ]
    },
    {
      "cell_type": "code",
      "metadata": {
        "id": "k0vCwnL16oX0",
        "colab_type": "code",
        "colab": {},
        "outputId": "bb629a24-4459-4310-b972-5223c6320a9d"
      },
      "source": [
        "# Verify if the appending is successfully executed\n",
        "\n",
        "with open('Example2.txt', 'r') as testwritefile:\n",
        "    print(testwritefile.read())"
      ],
      "execution_count": null,
      "outputs": [
        {
          "output_type": "stream",
          "text": [
            "This is line A\n",
            "This is line B\n",
            "This is line C\n",
            "This is line D\n",
            "\n"
          ],
          "name": "stdout"
        }
      ]
    },
    {
      "cell_type": "markdown",
      "metadata": {
        "id": "eo5rVQFv6oX4",
        "colab_type": "text"
      },
      "source": [
        "<hr>"
      ]
    },
    {
      "cell_type": "markdown",
      "metadata": {
        "id": "BBQauJc56oX5",
        "colab_type": "text"
      },
      "source": [
        "<h2 id=\"copy\">Copy a File</h2> "
      ]
    },
    {
      "cell_type": "markdown",
      "metadata": {
        "id": "N6p1oIOQ6oX6",
        "colab_type": "text"
      },
      "source": [
        "Let's copy the file <b>Example2.txt</b> to the file <b>Example3.txt</b>:"
      ]
    },
    {
      "cell_type": "code",
      "metadata": {
        "id": "Xgbh8RON6oX6",
        "colab_type": "code",
        "colab": {}
      },
      "source": [
        "# Copy file to another\n",
        "\n",
        "with open('Example2.txt','r') as readfile:\n",
        "    with open('Example3.txt','w') as writefile:\n",
        "          for line in readfile:\n",
        "                writefile.write(line)"
      ],
      "execution_count": null,
      "outputs": []
    },
    {
      "cell_type": "markdown",
      "metadata": {
        "id": "e381-mP-6oX-",
        "colab_type": "text"
      },
      "source": [
        "We can read the file to see if everything works:"
      ]
    },
    {
      "cell_type": "code",
      "metadata": {
        "id": "scejqbmc6oX-",
        "colab_type": "code",
        "colab": {},
        "outputId": "858206ae-010d-478a-c6b8-3f62c178d3df"
      },
      "source": [
        "# Verify if the copy is successfully executed\n",
        "\n",
        "with open('Example3.txt','r') as testwritefile:\n",
        "    print(testwritefile.read())"
      ],
      "execution_count": null,
      "outputs": [
        {
          "output_type": "stream",
          "text": [
            "This is line A\n",
            "This is line B\n",
            "This is line C\n",
            "This is line D\n",
            "\n"
          ],
          "name": "stdout"
        }
      ]
    },
    {
      "cell_type": "markdown",
      "metadata": {
        "id": "8bHxYp8-6oYE",
        "colab_type": "text"
      },
      "source": [
        " After reading files, we can also write data into files and save them in different file formats like **.txt, .csv, .xls (for excel files) etc**. Let's take a look at some examples."
      ]
    },
    {
      "cell_type": "markdown",
      "metadata": {
        "id": "lCcFHNo26oYG",
        "colab_type": "text"
      },
      "source": [
        "Now go to the directory to ensure the <b>.txt</b> file exists and contains the summary data that we wrote."
      ]
    }
  ]
}