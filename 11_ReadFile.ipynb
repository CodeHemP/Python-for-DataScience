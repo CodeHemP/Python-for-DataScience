{
  "nbformat": 4,
  "nbformat_minor": 0,
  "metadata": {
    "kernelspec": {
      "display_name": "Python 3",
      "language": "python",
      "name": "python3"
    },
    "language_info": {
      "codemirror_mode": {
        "name": "ipython",
        "version": 3
      },
      "file_extension": ".py",
      "mimetype": "text/x-python",
      "name": "python",
      "nbconvert_exporter": "python",
      "pygments_lexer": "ipython3",
      "version": "3.6.8"
    },
    "colab": {
      "name": "11. ReadFile.ipynb",
      "provenance": [],
      "include_colab_link": true
    }
  },
  "cells": [
    {
      "cell_type": "markdown",
      "metadata": {
        "id": "view-in-github",
        "colab_type": "text"
      },
      "source": [
        "<a href=\"https://colab.research.google.com/github/mohd-faizy/My_Python_for_DataScience/blob/master/11_ReadFile.ipynb\" target=\"_parent\"><img src=\"https://colab.research.google.com/assets/colab-badge.svg\" alt=\"Open In Colab\"/></a>"
      ]
    },
    {
      "cell_type": "markdown",
      "metadata": {
        "id": "dbUvlgtXppVN",
        "colab_type": "text"
      },
      "source": [
        "<h1>Reading Files Python</h1>"
      ]
    },
    {
      "cell_type": "markdown",
      "metadata": {
        "id": "Gw7HX8QdppVP",
        "colab_type": "text"
      },
      "source": [
        "<p><strong>Welcome!</strong> This notebook will teach you about reading the text file in the Python Programming Language. By the end of this lab, you'll know how to read text files.</p>"
      ]
    },
    {
      "cell_type": "markdown",
      "metadata": {
        "id": "MhrV4kJHppVR",
        "colab_type": "text"
      },
      "source": [
        "<h2>Table of Contents</h2>\n",
        "<div class=\"alert alert-block alert-info\" style=\"margin-top: 20px\">\n",
        "    <ul>\n",
        "        <li><a href=\"download\">Download Data</a></li>\n",
        "        <li><a href=\"read\">Reading Text Files</a></li>\n",
        "        <li><a href=\"better\">A Better Way to Open a File</a></li>\n",
        "    </ul>\n",
        "    <p>\n",
        "        Estimated time needed: <strong>40 min</strong>\n",
        "    </p>\n",
        "</div>\n",
        "\n",
        "<hr>"
      ]
    },
    {
      "cell_type": "markdown",
      "metadata": {
        "id": "eW2zox5HppVT",
        "colab_type": "text"
      },
      "source": [
        "<h2 id=\"download\">Download Data</h2>"
      ]
    },
    {
      "cell_type": "code",
      "metadata": {
        "id": "kO9F9FmEppVW",
        "colab_type": "code",
        "colab": {},
        "outputId": "8d6fb60c-b35d-4e9f-bc85-a29b39a6f98d"
      },
      "source": [
        "# Download Example file\n",
        "\n",
        "!wget -O /resources/data/Example1.txt https://s3-api.us-geo.objectstorage.softlayer.net/cf-courses-data/CognitiveClass/PY0101EN/labs/example1.txt"
      ],
      "execution_count": null,
      "outputs": [
        {
          "output_type": "stream",
          "text": [
            "--2019-04-03 13:18:31--  https://s3-api.us-geo.objectstorage.softlayer.net/cf-courses-data/CognitiveClass/PY0101EN/labs/example1.txt\n",
            "Resolving s3-api.us-geo.objectstorage.softlayer.net (s3-api.us-geo.objectstorage.softlayer.net)... 67.228.254.193\n",
            "Connecting to s3-api.us-geo.objectstorage.softlayer.net (s3-api.us-geo.objectstorage.softlayer.net)|67.228.254.193|:443... connected.\n",
            "HTTP request sent, awaiting response... 200 OK\n",
            "Length: 45 [text/plain]\n",
            "Saving to: ‘/resources/data/Example1.txt’\n",
            "\n",
            "/resources/data/Exa 100%[=====================>]      45  --.-KB/s   in 0s     \n",
            "\n",
            "2019-04-03 13:18:31 (22.6 MB/s) - ‘/resources/data/Example1.txt’ saved [45/45]\n",
            "\n"
          ],
          "name": "stdout"
        }
      ]
    },
    {
      "cell_type": "markdown",
      "metadata": {
        "id": "QuDpv_9gppVo",
        "colab_type": "text"
      },
      "source": [
        "<hr>"
      ]
    },
    {
      "cell_type": "markdown",
      "metadata": {
        "id": "xeFgr6bLppVr",
        "colab_type": "text"
      },
      "source": [
        "<h2 id=\"read\">Reading Text Files</h2>"
      ]
    },
    {
      "cell_type": "markdown",
      "metadata": {
        "id": "F8X8sOHBppV0",
        "colab_type": "text"
      },
      "source": [
        "One way to read or write a file in Python is to use the built-in <code>open</code> function. The <code>open</code> function provides a <b>File object</b> that contains the methods and attributes you need in order to read, save, and manipulate the file. In this notebook, we will only cover <b>.txt</b> files. The first parameter you need is the file path and the file name. An example is shown as follow:"
      ]
    },
    {
      "cell_type": "markdown",
      "metadata": {
        "id": "DpyhrHbSppV2",
        "colab_type": "text"
      },
      "source": [
        "<img src=\"https://s3-api.us-geo.objectstorage.softlayer.net/cf-courses-data/CognitiveClass/PY0101EN/Chapter%204/Images/ReadOpen.png\" width=\"500\" />"
      ]
    },
    {
      "cell_type": "markdown",
      "metadata": {
        "id": "jkb0uV9vppV4",
        "colab_type": "text"
      },
      "source": [
        " The mode argument is optional and the default value is <b>r</b>. In this notebook we only cover two modes: \n",
        "<ul>\n",
        "    <li><b>r</b> Read mode for reading files </li>\n",
        "    <li><b>w</b> Write mode for writing files</li>\n",
        "</ul>"
      ]
    },
    {
      "cell_type": "markdown",
      "metadata": {
        "id": "ff7OK0NZppV6",
        "colab_type": "text"
      },
      "source": [
        "For the next example, we will use the text file <b>Example1.txt</b>. The file is shown as follow:"
      ]
    },
    {
      "cell_type": "markdown",
      "metadata": {
        "id": "4W-GYaLNppV-",
        "colab_type": "text"
      },
      "source": [
        "<img src=\"https://s3-api.us-geo.objectstorage.softlayer.net/cf-courses-data/CognitiveClass/PY0101EN/Chapter%204/Images/ReadFile.png\" width=\"200\" />"
      ]
    },
    {
      "cell_type": "markdown",
      "metadata": {
        "id": "da15OvDBppWG",
        "colab_type": "text"
      },
      "source": [
        " We read the file: "
      ]
    },
    {
      "cell_type": "code",
      "metadata": {
        "id": "kiATL97BppWJ",
        "colab_type": "code",
        "colab": {}
      },
      "source": [
        "# Read the Example1.txt\n",
        "\n",
        "example1 = \"/resources/data/Example1.txt\"\n",
        "file1 = open(example1, \"r\")"
      ],
      "execution_count": null,
      "outputs": []
    },
    {
      "cell_type": "markdown",
      "metadata": {
        "id": "khmp7AxSppWW",
        "colab_type": "text"
      },
      "source": [
        " We can view the attributes of the file."
      ]
    },
    {
      "cell_type": "markdown",
      "metadata": {
        "id": "96tsvZyRppWX",
        "colab_type": "text"
      },
      "source": [
        "The name of the file:"
      ]
    },
    {
      "cell_type": "code",
      "metadata": {
        "id": "1XrZnD5NppWb",
        "colab_type": "code",
        "colab": {},
        "outputId": "41092858-f824-453b-a86a-b15b49cbcfdf"
      },
      "source": [
        "# Print the path of file\n",
        "\n",
        "file1.name"
      ],
      "execution_count": null,
      "outputs": [
        {
          "output_type": "execute_result",
          "data": {
            "text/plain": [
              "'/resources/data/Example1.txt'"
            ]
          },
          "metadata": {
            "tags": []
          },
          "execution_count": 42
        }
      ]
    },
    {
      "cell_type": "markdown",
      "metadata": {
        "id": "bC3kQUSkppWw",
        "colab_type": "text"
      },
      "source": [
        " The mode the file object is in:"
      ]
    },
    {
      "cell_type": "code",
      "metadata": {
        "id": "3UDv47KLppW1",
        "colab_type": "code",
        "colab": {},
        "outputId": "2061df21-a188-4b29-95b5-64d978acb7de"
      },
      "source": [
        "# Print the mode of file, either 'r' or 'w'\n",
        "\n",
        "file1.mode"
      ],
      "execution_count": null,
      "outputs": [
        {
          "output_type": "execute_result",
          "data": {
            "text/plain": [
              "'r'"
            ]
          },
          "metadata": {
            "tags": []
          },
          "execution_count": 43
        }
      ]
    },
    {
      "cell_type": "markdown",
      "metadata": {
        "id": "dGiplrAappXF",
        "colab_type": "text"
      },
      "source": [
        "We can read the file and assign it to a variable :"
      ]
    },
    {
      "cell_type": "code",
      "metadata": {
        "id": "7V3qV-07ppXH",
        "colab_type": "code",
        "colab": {},
        "outputId": "d3d45a00-d0f8-4527-819d-6ce0810c74bf"
      },
      "source": [
        "# Read the file\n",
        "\n",
        "FileContent = file1.read()\n",
        "FileContent"
      ],
      "execution_count": null,
      "outputs": [
        {
          "output_type": "execute_result",
          "data": {
            "text/plain": [
              "'This is line 1 \\nThis is line 2\\nThis is line 3'"
            ]
          },
          "metadata": {
            "tags": []
          },
          "execution_count": 44
        }
      ]
    },
    {
      "cell_type": "markdown",
      "metadata": {
        "id": "CIAJ_VoOppXU",
        "colab_type": "text"
      },
      "source": [
        "The <b>/n</b> means that there is a new line. "
      ]
    },
    {
      "cell_type": "markdown",
      "metadata": {
        "id": "uYuv9gQnppXW",
        "colab_type": "text"
      },
      "source": [
        "We can print the file: "
      ]
    },
    {
      "cell_type": "code",
      "metadata": {
        "id": "DPZ-YhxOppXX",
        "colab_type": "code",
        "colab": {},
        "outputId": "1dded0c0-3c7d-4114-f7a6-9b96451d2a7b"
      },
      "source": [
        "# Print the file with '\\n' as a new line\n",
        "\n",
        "print(FileContent)"
      ],
      "execution_count": null,
      "outputs": [
        {
          "output_type": "stream",
          "text": [
            "This is line 1 \n",
            "This is line 2\n",
            "This is line 3\n"
          ],
          "name": "stdout"
        }
      ]
    },
    {
      "cell_type": "markdown",
      "metadata": {
        "id": "WT9o30w0ppXp",
        "colab_type": "text"
      },
      "source": [
        "The file is of type string:"
      ]
    },
    {
      "cell_type": "code",
      "metadata": {
        "id": "vu9-UJDRppXr",
        "colab_type": "code",
        "colab": {},
        "outputId": "fc085789-df1d-44a2-97ac-c8bd16c21a5f"
      },
      "source": [
        "# Type of file content\n",
        "\n",
        "type(FileContent)"
      ],
      "execution_count": null,
      "outputs": [
        {
          "output_type": "execute_result",
          "data": {
            "text/plain": [
              "str"
            ]
          },
          "metadata": {
            "tags": []
          },
          "execution_count": 46
        }
      ]
    },
    {
      "cell_type": "markdown",
      "metadata": {
        "id": "FYYCcAt2ppX2",
        "colab_type": "text"
      },
      "source": [
        " We must close the file object:"
      ]
    },
    {
      "cell_type": "code",
      "metadata": {
        "id": "hhEb2Yl8ppX5",
        "colab_type": "code",
        "colab": {}
      },
      "source": [
        "# Close file after finish\n",
        "\n",
        "file1.close()"
      ],
      "execution_count": null,
      "outputs": []
    },
    {
      "cell_type": "markdown",
      "metadata": {
        "id": "AOngU6Q2ppYA",
        "colab_type": "text"
      },
      "source": [
        "<hr>"
      ]
    },
    {
      "cell_type": "markdown",
      "metadata": {
        "id": "gmk5fHqkppYB",
        "colab_type": "text"
      },
      "source": [
        "<h2 id=\"better\">A Better Way to Open a File</h2>"
      ]
    },
    {
      "cell_type": "markdown",
      "metadata": {
        "id": "nZCbe3cRppYD",
        "colab_type": "text"
      },
      "source": [
        "Using the <code>with</code> statement is better practice, it automatically closes the file even if the code encounters an exception. The code will run everything in the indent block then close the file object. "
      ]
    },
    {
      "cell_type": "code",
      "metadata": {
        "id": "D5-ofx-tppYF",
        "colab_type": "code",
        "colab": {},
        "outputId": "60961fba-de97-4779-8678-a34aab0ad04d"
      },
      "source": [
        "# Open file using with\n",
        "\n",
        "with open(example1, \"r\") as file1:\n",
        "    FileContent = file1.read()\n",
        "    print(FileContent)"
      ],
      "execution_count": null,
      "outputs": [
        {
          "output_type": "stream",
          "text": [
            "This is line 1 \n",
            "This is line 2\n",
            "This is line 3\n"
          ],
          "name": "stdout"
        }
      ]
    },
    {
      "cell_type": "markdown",
      "metadata": {
        "id": "qy-DtKwUppYK",
        "colab_type": "text"
      },
      "source": [
        "The file object is closed, you can verify it by running the following cell:  "
      ]
    },
    {
      "cell_type": "code",
      "metadata": {
        "id": "Jg7W_jbRppYL",
        "colab_type": "code",
        "colab": {},
        "outputId": "5884f5cb-9964-4b25-9eb3-5ecbf07e146c"
      },
      "source": [
        "# Verify if the file is closed\n",
        "\n",
        "file1.closed"
      ],
      "execution_count": null,
      "outputs": [
        {
          "output_type": "execute_result",
          "data": {
            "text/plain": [
              "True"
            ]
          },
          "metadata": {
            "tags": []
          },
          "execution_count": 49
        }
      ]
    },
    {
      "cell_type": "markdown",
      "metadata": {
        "id": "W1cY0sxMppYU",
        "colab_type": "text"
      },
      "source": [
        " We can see the info in the file:"
      ]
    },
    {
      "cell_type": "code",
      "metadata": {
        "id": "YGM9y-GLppYW",
        "colab_type": "code",
        "colab": {},
        "outputId": "2535714e-2e15-4123-83e3-76cd681ef5bd"
      },
      "source": [
        "# See the content of file\n",
        "\n",
        "print(FileContent)"
      ],
      "execution_count": null,
      "outputs": [
        {
          "output_type": "stream",
          "text": [
            "This is line 1 \n",
            "This is line 2\n",
            "This is line 3\n"
          ],
          "name": "stdout"
        }
      ]
    },
    {
      "cell_type": "markdown",
      "metadata": {
        "id": "YxpH9qMSppYb",
        "colab_type": "text"
      },
      "source": [
        "The syntax is a little confusing as the file object is after the <code>as</code> statement. We also don’t explicitly close the file. Therefore we summarize the steps in a figure:"
      ]
    },
    {
      "cell_type": "markdown",
      "metadata": {
        "id": "1X4SWHjYppYb",
        "colab_type": "text"
      },
      "source": [
        "<img src=\"https://s3-api.us-geo.objectstorage.softlayer.net/cf-courses-data/CognitiveClass/PY0101EN/Chapter%204/Images/ReadWith.png\" width=\"500\" />"
      ]
    },
    {
      "cell_type": "markdown",
      "metadata": {
        "id": "TuHPqtFqppYc",
        "colab_type": "text"
      },
      "source": [
        "We don’t have to read the entire file, for example, we can read the first 4 characters by entering three as a parameter to the method **.read()**:\n"
      ]
    },
    {
      "cell_type": "code",
      "metadata": {
        "id": "DQYi994kppYd",
        "colab_type": "code",
        "colab": {},
        "outputId": "8556d414-0b43-47d6-9a8d-f31bb1b864bc"
      },
      "source": [
        "# Read first four characters\n",
        "\n",
        "with open(example1, \"r\") as file1:\n",
        "    print(file1.read(4))"
      ],
      "execution_count": null,
      "outputs": [
        {
          "output_type": "stream",
          "text": [
            "This\n"
          ],
          "name": "stdout"
        }
      ]
    },
    {
      "cell_type": "markdown",
      "metadata": {
        "id": "QGFPWMtBppYm",
        "colab_type": "text"
      },
      "source": [
        "Once the method <code>.read(4)</code> is called the first 4 characters are called. If we call the method again, the next 4 characters are called. The output for the following cell will demonstrate the process for different inputs to the method <code>read()</code>:"
      ]
    },
    {
      "cell_type": "code",
      "metadata": {
        "id": "wVRAkqb9ppYn",
        "colab_type": "code",
        "colab": {},
        "outputId": "604f7f30-4f68-4856-e649-0392d78ec0d2"
      },
      "source": [
        "# Read certain amount of characters\n",
        "\n",
        "with open(example1, \"r\") as file1:\n",
        "    print(file1.read(4))\n",
        "    print(file1.read(4))\n",
        "    print(file1.read(7))\n",
        "    print(file1.read(15))"
      ],
      "execution_count": null,
      "outputs": [
        {
          "output_type": "stream",
          "text": [
            "This\n",
            " is \n",
            "line 1 \n",
            "\n",
            "This is line 2\n"
          ],
          "name": "stdout"
        }
      ]
    },
    {
      "cell_type": "markdown",
      "metadata": {
        "id": "vtxIoHXnppYt",
        "colab_type": "text"
      },
      "source": [
        "The process is illustrated in the below figure, and each color represents the part of the file read after the method <code>read()</code> is called:"
      ]
    },
    {
      "cell_type": "markdown",
      "metadata": {
        "id": "QXZMyxMFppYw",
        "colab_type": "text"
      },
      "source": [
        "<img src=\"https://s3-api.us-geo.objectstorage.softlayer.net/cf-courses-data/CognitiveClass/PY0101EN/Chapter%204/Images/ReadChar.png\" width=\"500\" />"
      ]
    },
    {
      "cell_type": "markdown",
      "metadata": {
        "id": "4c1za8N0ppYy",
        "colab_type": "text"
      },
      "source": [
        " Here is an example using the same file, but instead we read 16, 5, and then 9 characters at a time: "
      ]
    },
    {
      "cell_type": "code",
      "metadata": {
        "id": "HXv9Cfm_ppY1",
        "colab_type": "code",
        "colab": {},
        "outputId": "04db5f70-1c93-45df-a3cb-298fa7831fce"
      },
      "source": [
        "# Read certain amount of characters\n",
        "\n",
        "with open(example1, \"r\") as file1:\n",
        "    print(file1.read(16))\n",
        "    print(file1.read(5))\n",
        "    print(file1.read(9))"
      ],
      "execution_count": null,
      "outputs": [
        {
          "output_type": "stream",
          "text": [
            "This is line 1 \n",
            "\n",
            "This \n",
            "is line 2\n"
          ],
          "name": "stdout"
        }
      ]
    },
    {
      "cell_type": "markdown",
      "metadata": {
        "id": "0hc8Z6ioppY6",
        "colab_type": "text"
      },
      "source": [
        "We can also read one line of the file at a time using the method <code>readline()</code>: "
      ]
    },
    {
      "cell_type": "code",
      "metadata": {
        "id": "e4BFoUSqppY7",
        "colab_type": "code",
        "colab": {},
        "outputId": "40f97295-825a-428e-e125-7ffe07e5c1ad"
      },
      "source": [
        "# Read one line\n",
        "\n",
        "with open(example1, \"r\") as file1:\n",
        "    print(\"first line: \" + file1.readline())"
      ],
      "execution_count": null,
      "outputs": [
        {
          "output_type": "stream",
          "text": [
            "first line: This is line 1 \n",
            "\n"
          ],
          "name": "stdout"
        }
      ]
    },
    {
      "cell_type": "markdown",
      "metadata": {
        "id": "wExfICkjppZD",
        "colab_type": "text"
      },
      "source": [
        " We can use a loop to iterate through each line: \n"
      ]
    },
    {
      "cell_type": "code",
      "metadata": {
        "id": "2G51q7lXppZF",
        "colab_type": "code",
        "colab": {},
        "outputId": "af31cfd5-9b20-4324-ac57-422c028eecc4"
      },
      "source": [
        "# Iterate through the lines\n",
        "\n",
        "with open(example1,\"r\") as file1:\n",
        "        i = 0;\n",
        "        for line in file1:\n",
        "            print(\"Iteration\", str(i), \": \", line)\n",
        "            i = i + 1;"
      ],
      "execution_count": null,
      "outputs": [
        {
          "output_type": "stream",
          "text": [
            "Iteration 0 :  This is line 1 \n",
            "\n",
            "Iteration 1 :  This is line 2\n",
            "\n",
            "Iteration 2 :  This is line 3\n"
          ],
          "name": "stdout"
        }
      ]
    },
    {
      "cell_type": "markdown",
      "metadata": {
        "id": "m4Mv3IpsppZM",
        "colab_type": "text"
      },
      "source": [
        "We can use the method <code>readlines()</code> to save the text file to a list: "
      ]
    },
    {
      "cell_type": "code",
      "metadata": {
        "id": "ZcefONn0ppZN",
        "colab_type": "code",
        "colab": {}
      },
      "source": [
        "# Read all lines and save as a list\n",
        "\n",
        "with open(example1, \"r\") as file1:\n",
        "    FileasList = file1.readlines()"
      ],
      "execution_count": null,
      "outputs": []
    },
    {
      "cell_type": "markdown",
      "metadata": {
        "id": "C8zbdVAFppZS",
        "colab_type": "text"
      },
      "source": [
        " Each element of the list corresponds to a line of text:"
      ]
    },
    {
      "cell_type": "code",
      "metadata": {
        "id": "ybFk5CfkppZV",
        "colab_type": "code",
        "colab": {},
        "outputId": "45bfc31a-ea93-446a-952f-5ef9a11ef1b0"
      },
      "source": [
        "# Print the first line\n",
        "\n",
        "FileasList[0]"
      ],
      "execution_count": null,
      "outputs": [
        {
          "output_type": "execute_result",
          "data": {
            "text/plain": [
              "'This is line 1 \\n'"
            ]
          },
          "metadata": {
            "tags": []
          },
          "execution_count": 57
        }
      ]
    },
    {
      "cell_type": "code",
      "metadata": {
        "id": "MRTL4LhCppZc",
        "colab_type": "code",
        "colab": {},
        "outputId": "058dcdea-6a90-41f6-aca3-2abed868040e"
      },
      "source": [
        "# Print the second line\n",
        "\n",
        "FileasList[1]"
      ],
      "execution_count": null,
      "outputs": [
        {
          "output_type": "execute_result",
          "data": {
            "text/plain": [
              "'This is line 2\\n'"
            ]
          },
          "metadata": {
            "tags": []
          },
          "execution_count": 58
        }
      ]
    },
    {
      "cell_type": "code",
      "metadata": {
        "id": "wZUmhMkippZg",
        "colab_type": "code",
        "colab": {},
        "outputId": "7d7614d0-85fd-4188-e3a6-d46cc3c4dbbb"
      },
      "source": [
        "# Print the third line\n",
        "\n",
        "FileasList[2]"
      ],
      "execution_count": null,
      "outputs": [
        {
          "output_type": "execute_result",
          "data": {
            "text/plain": [
              "'This is line 3'"
            ]
          },
          "metadata": {
            "tags": []
          },
          "execution_count": 59
        }
      ]
    },
    {
      "cell_type": "markdown",
      "metadata": {
        "id": "3zwpXAfZppZv",
        "colab_type": "text"
      },
      "source": [
        "<hr>"
      ]
    }
  ]
}